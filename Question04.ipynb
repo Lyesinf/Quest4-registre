{
 "cells": [
  {
   "cell_type": "code",
   "execution_count": null,
   "id": "6c7c3615",
   "metadata": {},
   "outputs": [],
   "source": [
    "list={}\n",
    "print('Donner un nombre : ')\n",
    "x=input()\n",
    "i=1\n",
    "while i<=float(x):\n",
    "    list[i]=i*i\n",
    "    i=i+1\n",
    "list  "
   ]
  }
 ],
 "metadata": {
  "kernelspec": {
   "display_name": "Python 3 (ipykernel)",
   "language": "python",
   "name": "python3"
  },
  "language_info": {
   "codemirror_mode": {
    "name": "ipython",
    "version": 3
   },
   "file_extension": ".py",
   "mimetype": "text/x-python",
   "name": "python",
   "nbconvert_exporter": "python",
   "pygments_lexer": "ipython3",
   "version": "3.9.7"
  }
 },
 "nbformat": 4,
 "nbformat_minor": 5
}
